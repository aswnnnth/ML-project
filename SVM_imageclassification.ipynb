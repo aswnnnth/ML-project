{
  "nbformat": 4,
  "nbformat_minor": 0,
  "metadata": {
    "colab": {
      "provenance": [],
      "authorship_tag": "ABX9TyOsi1EYLX3SXiL9e7jhpX86",
      "include_colab_link": true
    },
    "kernelspec": {
      "name": "python3",
      "display_name": "Python 3"
    },
    "language_info": {
      "name": "python"
    }
  },
  "cells": [
    {
      "cell_type": "markdown",
      "metadata": {
        "id": "view-in-github",
        "colab_type": "text"
      },
      "source": [
        "<a href=\"https://colab.research.google.com/github/aswnnnth/ML-project/blob/main/SVM_imageclassification.ipynb\" target=\"_parent\"><img src=\"https://colab.research.google.com/assets/colab-badge.svg\" alt=\"Open In Colab\"/></a>"
      ]
    },
    {
      "cell_type": "code",
      "execution_count": null,
      "metadata": {
        "id": "c6o1mZQ6xSCp",
        "colab": {
          "base_uri": "https://localhost:8080/"
        },
        "outputId": "d4f4509e-b1c5-4ed9-a59b-29217c1bc58c"
      },
      "outputs": [
        {
          "output_type": "stream",
          "name": "stdout",
          "text": [
            "Mounted at /content/drive\n"
          ]
        }
      ],
      "source": [
        "#drive mount\n",
        "from google.colab import drive\n",
        "drive.mount('/content/drive')"
      ]
    },
    {
      "cell_type": "code",
      "source": [],
      "metadata": {
        "id": "bkxiZA-DvueA"
      },
      "execution_count": null,
      "outputs": []
    },
    {
      "cell_type": "code",
      "source": [
        "import pandas as pd\n",
        "import numpy as np\n",
        "from sklearn.svm import SVC\n",
        "from sklearn.metrics import accuracy_score,confusion_matrix\n",
        "import matplotlib.pyplot as plt\n",
        "import os#define path of file and directory\n",
        "from skimage.io import imread #used for reading images\n",
        "from sklearn.model_selection import train_test_split\n",
        "from skimage.transform import resize\n"
      ],
      "metadata": {
        "id": "TJ5FKed42tIT"
      },
      "execution_count": null,
      "outputs": []
    },
    {
      "cell_type": "code",
      "source": [
        "os.listdir('/content/drive/MyDrive/Data')"
      ],
      "metadata": {
        "id": "uNhvUxxf4Tvo",
        "colab": {
          "base_uri": "https://localhost:8080/"
        },
        "outputId": "21b73bd4-114d-466f-e9db-8079dcb5b9b7"
      },
      "execution_count": null,
      "outputs": [
        {
          "output_type": "execute_result",
          "data": {
            "text/plain": [
              "['Dog', 'Cat']"
            ]
          },
          "metadata": {},
          "execution_count": 3
        }
      ]
    },
    {
      "cell_type": "code",
      "source": [
        "len(os.listdir('/content/drive/MyDrive/Data/Cat'))"
      ],
      "metadata": {
        "id": "egB-OJ72Bcn-",
        "colab": {
          "base_uri": "https://localhost:8080/"
        },
        "outputId": "c360ea94-38cb-4c07-c076-b8e8a1fa3545"
      },
      "execution_count": null,
      "outputs": [
        {
          "output_type": "execute_result",
          "data": {
            "text/plain": [
              "85"
            ]
          },
          "metadata": {},
          "execution_count": 4
        }
      ]
    },
    {
      "cell_type": "code",
      "source": [
        "len(os.listdir('/content/drive/MyDrive/Data/Dog'))"
      ],
      "metadata": {
        "id": "-M4kmW_KB0fl",
        "colab": {
          "base_uri": "https://localhost:8080/"
        },
        "outputId": "10858f54-3c8e-48f1-c20f-4f7f5415daa2"
      },
      "execution_count": null,
      "outputs": [
        {
          "output_type": "execute_result",
          "data": {
            "text/plain": [
              "68"
            ]
          },
          "metadata": {},
          "execution_count": 5
        }
      ]
    },
    {
      "cell_type": "code",
      "source": [
        "catpath=os.path.join('/content/drive/MyDrive/Data','Cat')\n",
        "for img in os.listdir(catpath):\n",
        "  print(img)"
      ],
      "metadata": {
        "id": "FE4eWXwzCcw7",
        "colab": {
          "base_uri": "https://localhost:8080/"
        },
        "outputId": "1661d677-ea71-45a0-91da-1c5a15dbaa07"
      },
      "execution_count": null,
      "outputs": [
        {
          "output_type": "stream",
          "name": "stdout",
          "text": [
            "cat.97.jpg\n",
            "cat.82.jpg\n",
            "cat.93.jpg\n",
            "cat.76.jpg\n",
            "cat.83.jpg\n",
            "cat.80.jpg\n",
            "cat.72.jpg\n",
            "cat.90.jpg\n",
            "cat.87.jpg\n",
            "cat.67.jpg\n",
            "cat.70.jpg\n",
            "cat.73.jpg\n",
            "cat.96.jpg\n",
            "cat.99.jpg\n",
            "cat.81.jpg\n",
            "cat.68.jpg\n",
            "cat.79.jpg\n",
            "cat.88.jpg\n",
            "cat.59.jpg\n",
            "cat.57.jpg\n",
            "cat.94.jpg\n",
            "cat.84.jpg\n",
            "cat.86.jpg\n",
            "cat.44.jpg\n",
            "cat.64.jpg\n",
            "cat.60.jpg\n",
            "cat.89.jpg\n",
            "cat.91.jpg\n",
            "cat.62.jpg\n",
            "cat.69.jpg\n",
            "cat.61.jpg\n",
            "cat.46.jpg\n",
            "cat.41.jpg\n",
            "cat.37.jpg\n",
            "cat.117.jpg\n",
            "cat.95.jpg\n",
            "cat.92.jpg\n",
            "cat.78.jpg\n",
            "cat.65.jpg\n",
            "cat.85.jpg\n",
            "cat.98.jpg\n",
            "cat.77.jpg\n",
            "cat.71.jpg\n",
            "cat.48.jpg\n",
            "cat.50.jpg\n",
            "cat.66.jpg\n",
            "cat.38.jpg\n",
            "cat.53.jpg\n",
            "cat.49.jpg\n",
            "cat.111.jpg\n",
            "cat.118.jpg\n",
            "cat.74.jpg\n",
            "cat.100.jpg\n",
            "cat.52.jpg\n",
            "cat.114.jpg\n",
            "cat.54.jpg\n",
            "cat.45.jpg\n",
            "cat.75.jpg\n",
            "cat.55.jpg\n",
            "cat.42.jpg\n",
            "cat.40.jpg\n",
            "cat.56.jpg\n",
            "cat.39.jpg\n",
            "cat.51.jpg\n",
            "cat.106.jpg\n",
            "cat.63.jpg\n",
            "cat.116.jpg\n",
            "cat.58.jpg\n",
            "cat.47.jpg\n",
            "cat.102.jpg\n",
            "cat.113.jpg\n",
            "cat.109.jpg\n",
            "cat.112.jpg\n",
            "cat.103.jpg\n",
            "cat.110.jpg\n",
            "cat.115.jpg\n",
            "cat.101.jpg\n",
            "cat.105.jpg\n",
            "cat.36.jpg\n",
            "cat.104.jpg\n",
            "cat.35.jpg\n",
            "cat.107.jpg\n",
            "cat.43.jpg\n",
            "cat.119.jpg\n",
            "cat.108.jpg\n"
          ]
        }
      ]
    },
    {
      "cell_type": "code",
      "source": [
        "dogpath=os.path.join('/content/drive/MyDrive/Data','Dog')\n",
        "for img in os.listdir(dogpath):\n",
        "  print(img)"
      ],
      "metadata": {
        "id": "UeCmrJ4sDOzJ",
        "colab": {
          "base_uri": "https://localhost:8080/"
        },
        "outputId": "3d4f041b-8c20-49b7-d5f3-15df50ffddcf"
      },
      "execution_count": null,
      "outputs": [
        {
          "output_type": "stream",
          "name": "stdout",
          "text": [
            "dog.9.jpg\n",
            "dog.68.jpg\n",
            "dog.65.jpg\n",
            "dog.64.jpg\n",
            "dog.8.jpg\n",
            "dog.67.jpg\n",
            "dog.63.jpg\n",
            "dog.62.jpg\n",
            "dog.60.jpg\n",
            "dog.39.jpg\n",
            "dog.66.jpg\n",
            "dog.53.jpg\n",
            "dog.44.jpg\n",
            "dog.7.jpg\n",
            "dog.38.jpg\n",
            "dog.41.jpg\n",
            "dog.4.jpg\n",
            "dog.42.jpg\n",
            "dog.37.jpg\n",
            "dog.61.jpg\n",
            "dog.48.jpg\n",
            "dog.34.jpg\n",
            "dog.36.jpg\n",
            "dog.45.jpg\n",
            "dog.29.jpg\n",
            "dog.50.jpg\n",
            "dog.5.jpg\n",
            "dog.57.jpg\n",
            "dog.49.jpg\n",
            "dog.58.jpg\n",
            "dog.47.jpg\n",
            "dog.56.jpg\n",
            "dog.6.jpg\n",
            "dog.55.jpg\n",
            "dog.43.jpg\n",
            "dog.3.jpg\n",
            "dog.24.jpg\n",
            "dog.22.jpg\n",
            "dog.21.jpg\n",
            "dog.17.jpg\n",
            "dog.31.jpg\n",
            "dog.59.jpg\n",
            "dog.13.jpg\n",
            "dog.23.jpg\n",
            "dog.33.jpg\n",
            "dog.30.jpg\n",
            "dog.27.jpg\n",
            "dog.1.jpg\n",
            "dog.26.jpg\n",
            "dog.11.jpg\n",
            "dog.40.jpg\n",
            "dog.28.jpg\n",
            "dog.32.jpg\n",
            "dog.46.jpg\n",
            "dog.25.jpg\n",
            "dog.19.jpg\n",
            "dog.54.jpg\n",
            "dog.51.jpg\n",
            "dog.52.jpg\n",
            "dog.2.jpg\n",
            "dog.15.jpg\n",
            "dog.20.jpg\n",
            "dog.18.jpg\n",
            "dog.16.jpg\n",
            "dog.10.jpg\n",
            "dog.35.jpg\n",
            "dog.12.jpg\n",
            "dog.14.jpg\n"
          ]
        }
      ]
    },
    {
      "cell_type": "code",
      "source": [
        "input_data_arr=[]#collect inputnsamples\n",
        "target_arr=[]#collect output sample\n",
        "categories=['Cat','Dog']\n",
        "datadir='/content/drive/MyDrive/Data'"
      ],
      "metadata": {
        "id": "cO-DjOR8DznP"
      },
      "execution_count": null,
      "outputs": []
    },
    {
      "cell_type": "code",
      "source": [
        "for i in categories:\n",
        "  print(\"loading categories....\")\n",
        "  path=os.path.join(datadir,i)\n",
        "  for img in os.listdir(path):\n",
        "    img_arr=imread(os.path.join(path,img))\n",
        "    img_resize=resize(img_arr,(150,150,3))\n",
        "    input_data_arr.append(img_resize.flatten())\n",
        "    target_arr.append(categories.index(i))#0 1\n",
        "  print(\"loaded completly\",i)"
      ],
      "metadata": {
        "id": "4uhBIHIREdQ5",
        "colab": {
          "base_uri": "https://localhost:8080/"
        },
        "outputId": "e97d6641-4c06-438f-98eb-0c779469ecf9"
      },
      "execution_count": null,
      "outputs": [
        {
          "output_type": "stream",
          "name": "stdout",
          "text": [
            "loading categories....\n",
            "loaded completly Cat\n",
            "loading categories....\n"
          ]
        }
      ]
    },
    {
      "cell_type": "code",
      "source": [
        "input_data=np.array(input_data_arr)\n",
        "target_data=np.array(target_arr)\n",
        "df=pd.DataFrame(input_data)\n",
        "df.shape"
      ],
      "metadata": {
        "id": "vC1D8NkKJe66"
      },
      "execution_count": null,
      "outputs": []
    },
    {
      "cell_type": "code",
      "source": [
        "df['Target']=target_data\n",
        "df.shape"
      ],
      "metadata": {
        "id": "VpFK61WhKtaf"
      },
      "execution_count": null,
      "outputs": []
    },
    {
      "cell_type": "code",
      "source": [
        "x=df.iloc[:,:-1]\n",
        "y=df.iloc[:,-1]\n",
        "x_train,x_test,y_train,y_test=train_test_split(x,y,test_size=.20,random_state=42)"
      ],
      "metadata": {
        "id": "hN3ba5zmLHLd"
      },
      "execution_count": null,
      "outputs": []
    },
    {
      "cell_type": "code",
      "source": [
        "model=SVC()\n",
        "model.fit(x_train,y_train)\n",
        "y_pred=model.predict(x_test)\n",
        "y_pred"
      ],
      "metadata": {
        "id": "Rgf4rL_QLkzz"
      },
      "execution_count": null,
      "outputs": []
    },
    {
      "cell_type": "code",
      "source": [
        "print(\"accuracy_score:\",accuracy_score(y_test,y_pred))"
      ],
      "metadata": {
        "id": "mY67TcMwMZul"
      },
      "execution_count": null,
      "outputs": []
    },
    {
      "cell_type": "code",
      "source": [
        "path1='/content/drive/MyDrive/pexels-wojciech-kumpicki-1084687-2071882.jpg'\n",
        "img=imread(path1)\n",
        "img=resize(img,(150,150,3)).flatten().reshape(1,-1)\n",
        "model.predict(img)"
      ],
      "metadata": {
        "id": "ASb0u0vmxPDy"
      },
      "execution_count": null,
      "outputs": []
    },
    {
      "cell_type": "code",
      "source": [
        "path2='/content/drive/MyDrive/pexels-pixabay-220938.jpg'\n",
        "img=imread(path2)\n",
        "img=resize(img,(150,150,3)).flatten().reshape(1,-1)\n",
        "model.predict(img)"
      ],
      "metadata": {
        "id": "DkElROvzyXC7"
      },
      "execution_count": null,
      "outputs": []
    }
  ]
}